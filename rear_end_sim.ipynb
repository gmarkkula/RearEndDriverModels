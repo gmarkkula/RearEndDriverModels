{
 "cells": [
  {
   "cell_type": "code",
   "execution_count": 49,
   "metadata": {},
   "outputs": [
    {
     "data": {
      "application/vnd.jupyter.widget-view+json": {
       "model_id": "efa2a8213354444988e59f42a77b4dec",
       "version_major": 2,
       "version_minor": 0
      },
      "text/plain": [
       "HTML(value='<b>Scenario</b>')"
      ]
     },
     "metadata": {},
     "output_type": "display_data"
    },
    {
     "data": {
      "application/vnd.jupyter.widget-view+json": {
       "model_id": "32ea1080eddb45b59b970ffc9e6c2dd2",
       "version_major": 2,
       "version_minor": 0
      },
      "text/plain": [
       "HBox(children=(Label(value='Initial speed of ego vehicle (m/s)'), BoundedFloatText(value=10.0, max=50.0)))"
      ]
     },
     "metadata": {},
     "output_type": "display_data"
    },
    {
     "data": {
      "application/vnd.jupyter.widget-view+json": {
       "model_id": "2cb401e6e8434cb3addacadeb9255018",
       "version_major": 2,
       "version_minor": 0
      },
      "text/plain": [
       "HBox(children=(Label(value='End time of ego driver off-road glance (s)'), BoundedFloatText(value=0.0, max=30.0…"
      ]
     },
     "metadata": {},
     "output_type": "display_data"
    },
    {
     "data": {
      "application/vnd.jupyter.widget-view+json": {
       "model_id": "a6584e842d45418ab70191a05b969dd1",
       "version_major": 2,
       "version_minor": 0
      },
      "text/plain": [
       "HBox(children=(Label(value='Initial time gap between ego vehicle and collision partner (s)'), BoundedFloatText…"
      ]
     },
     "metadata": {},
     "output_type": "display_data"
    },
    {
     "data": {
      "application/vnd.jupyter.widget-view+json": {
       "model_id": "777812c7e79e4b6d8d9840f3277af99d",
       "version_major": 2,
       "version_minor": 0
      },
      "text/plain": [
       "HBox(children=(Label(value='Width of collision partner (m)'), BoundedFloatText(value=1.9, max=10.0, min=0.1)))"
      ]
     },
     "metadata": {},
     "output_type": "display_data"
    },
    {
     "data": {
      "application/vnd.jupyter.widget-view+json": {
       "model_id": "8f9672870e7d40c8acf5bc161f9f368c",
       "version_major": 2,
       "version_minor": 0
      },
      "text/plain": [
       "HBox(children=(Label(value='Initial speed of collision partner (m/s)'), BoundedFloatText(value=10.0, max=50.0)…"
      ]
     },
     "metadata": {},
     "output_type": "display_data"
    },
    {
     "data": {
      "application/vnd.jupyter.widget-view+json": {
       "model_id": "63dc85e3c0af43789ca1bb0f9b33277e",
       "version_major": 2,
       "version_minor": 0
      },
      "text/plain": [
       "HBox(children=(Label(value='Onset time of collision partner acceleration (s)'), BoundedFloatText(value=0.0, ma…"
      ]
     },
     "metadata": {},
     "output_type": "display_data"
    },
    {
     "data": {
      "application/vnd.jupyter.widget-view+json": {
       "model_id": "0f5f0f5228c240b58f2de3710167fe5b",
       "version_major": 2,
       "version_minor": 0
      },
      "text/plain": [
       "HBox(children=(Label(value='Acceleration magnitude of collision partner (m/s^2)'), BoundedFloatText(value=-0.3…"
      ]
     },
     "metadata": {},
     "output_type": "display_data"
    },
    {
     "data": {
      "application/vnd.jupyter.widget-view+json": {
       "model_id": "e29c50bfe82a4e409e26edf5e7c40175",
       "version_major": 2,
       "version_minor": 0
      },
      "text/plain": [
       "HTML(value='<b>Looming detection threshold model</b>')"
      ]
     },
     "metadata": {},
     "output_type": "display_data"
    },
    {
     "data": {
      "application/vnd.jupyter.widget-view+json": {
       "model_id": "307ee73f29db4539a87deb6c4cdbc9bc",
       "version_major": 2,
       "version_minor": 0
      },
      "text/plain": [
       "Checkbox(value=False, description='Active', style=DescriptionStyle(description_width='0'))"
      ]
     },
     "metadata": {},
     "output_type": "display_data"
    },
    {
     "data": {
      "application/vnd.jupyter.widget-view+json": {
       "model_id": "73eb945e070448b8a51828903bb1a27d",
       "version_major": 2,
       "version_minor": 0
      },
      "text/plain": [
       "HBox(children=(Label(value='Looming detection threshold (rad/s)'), BoundedFloatText(value=0.002, max=0.05)))"
      ]
     },
     "metadata": {},
     "output_type": "display_data"
    },
    {
     "data": {
      "application/vnd.jupyter.widget-view+json": {
       "model_id": "315590c631fe45e6bf9ed7508335797c",
       "version_major": 2,
       "version_minor": 0
      },
      "text/plain": [
       "HTML(value='<b>Simulation control</b>')"
      ]
     },
     "metadata": {},
     "output_type": "display_data"
    },
    {
     "data": {
      "application/vnd.jupyter.widget-view+json": {
       "model_id": "ebdce9718cef4b71af4cbde0256c523c",
       "version_major": 2,
       "version_minor": 0
      },
      "text/plain": [
       "HBox(children=(Label(value='Simulation/plotting end time (s)'), BoundedFloatText(value=15.0, max=30.0)))"
      ]
     },
     "metadata": {},
     "output_type": "display_data"
    },
    {
     "data": {
      "application/vnd.jupyter.widget-view+json": {
       "model_id": "fb8f9f7b9f324b05a4bed5955a4d4eb7",
       "version_major": 2,
       "version_minor": 0
      },
      "text/plain": [
       "HBox(children=(Label(value='No. of simulations (probabilistic models only) (-)'), BoundedIntText(value=100, ma…"
      ]
     },
     "metadata": {},
     "output_type": "display_data"
    },
    {
     "data": {
      "application/vnd.jupyter.widget-view+json": {
       "model_id": "11acca2babd6478ca54415eb1fede605",
       "version_major": 2,
       "version_minor": 0
      },
      "text/plain": [
       "Button(description='Run', style=ButtonStyle())"
      ]
     },
     "metadata": {},
     "output_type": "display_data"
    },
    {
     "data": {
      "application/vnd.jupyter.widget-view+json": {
       "model_id": "eae5141df43c4c8ab75107e7c3891546",
       "version_major": 2,
       "version_minor": 0
      },
      "text/plain": [
       "Output()"
      ]
     },
     "metadata": {},
     "output_type": "display_data"
    }
   ],
   "source": [
    "import ipywidgets as widgets\n",
    "from IPython.display import display\n",
    "import collision_driver_models as cdm\n",
    "import importlib\n",
    "importlib.reload(cdm)\n",
    "\n",
    "class ParametersWidget:\n",
    "    def __init__(self, parameterizable, is_togglable = False, toggled_on = False):\n",
    "        self.parameterizable = parameterizable\n",
    "        self.is_togglable = is_togglable\n",
    "        # header\n",
    "        header_widget = widgets.HTML(value = '<b>' + parameterizable.name + '</b>')\n",
    "        display(header_widget)\n",
    "        # toggle\n",
    "        if is_togglable:\n",
    "            self.toggle = widgets.Checkbox(value = toggled_on, description = 'Active')\n",
    "            self.toggle.style.description_width = '0'\n",
    "            display(self.toggle)\n",
    "        # parameters\n",
    "        self.param_widgets = {}\n",
    "        for i, param_def in enumerate(parameterizable.param_defs):\n",
    "            param_val = parameterizable.param_vals[param_def.short_name]\n",
    "            if param_def.type is cdm.ParameterType.BOOLEAN:\n",
    "                param_widget = widgets.Checkbox(description = param_def.display_name, value = param_val)\n",
    "                display(param_widget)\n",
    "            else:\n",
    "                min_val = param_def.range[0]\n",
    "                max_val = param_def.range[1]\n",
    "                if param_def.type is cdm.ParameterType.FLOAT:\n",
    "                    param_widget = widgets.BoundedFloatText(min = min_val, max = max_val, value = param_val)\n",
    "                else:\n",
    "                    param_widget = widgets.BoundedIntText(min = min_val, max = max_val, value = param_val)\n",
    "                hbox = widgets.HBox([widgets.Label(param_def.display_name + ' (' + param_def.unit + ')'), \n",
    "                                     param_widget])\n",
    "                display(hbox)\n",
    "            self.param_widgets[param_def.short_name] = param_widget\n",
    "            \n",
    "            \n",
    "\n",
    "scenario = cdm.Scenario()\n",
    "scenario.param_vals['v_E'] = 10\n",
    "scenario.param_vals['T_g'] = 4\n",
    "scenario.param_vals['T_o'] = 0\n",
    "scenario.param_vals['W_P'] = 1.9\n",
    "scenario.param_vals['v_P'] = 10\n",
    "scenario.param_vals['T_a'] = 0\n",
    "scenario.param_vals['a_P'] = -0.35\n",
    "\n",
    "driver_models = []\n",
    "fixed_ldt_model = cdm.FixedLDTModel()\n",
    "fixed_ldt_model.param_vals['thetaDot_d'] = 0.002\n",
    "driver_models.append(fixed_ldt_model)\n",
    "\n",
    "sim_engine = cdm.SimulationEngine(scenario)\n",
    "sim_engine.param_vals['end_time'] = 15\n",
    "sim_engine.param_vals['n_simulations'] = 100\n",
    "sim_engine.add_driver_model(fixed_ldt_model)\n",
    "\n",
    "\n",
    "params_widgets = []\n",
    "driver_model_widgets = []\n",
    "params_widgets.append(ParametersWidget(scenario, False))\n",
    "for driver_model in driver_models:\n",
    "    driver_model_widget = ParametersWidget(driver_model, True)\n",
    "    params_widgets.append(driver_model_widget)\n",
    "    driver_model_widgets.append(driver_model_widget)\n",
    "params_widgets.append(ParametersWidget(sim_engine, False))\n",
    "\n",
    "output = widgets.Output()\n",
    "\n",
    "def on_run_btn_clicked(b):\n",
    "    # set parameter values\n",
    "    for params_widget in params_widgets:\n",
    "        for param_def in params_widget.parameterizable.param_defs:\n",
    "            params_widget.parameterizable.param_vals[param_def.short_name] = (\n",
    "                params_widget.param_widgets[param_def.short_name].value)\n",
    "    # specify driver models to include\n",
    "    sim_engine.clear_driver_models()\n",
    "    for driver_model_widget in driver_model_widgets:\n",
    "        if driver_model_widget.toggle.value:\n",
    "            sim_engine.add_driver_model(driver_model_widget.parameterizable)\n",
    "    # run simulations\n",
    "    sim_engine.simulate_driver_models()\n",
    "    # plot\n",
    "    output.clear_output()\n",
    "    with output:\n",
    "        for driver_model_widget in driver_model_widgets:\n",
    "            if driver_model_widget.toggle.value:\n",
    "                print(driver_model_widget.parameterizable.outputs)\n",
    "\n",
    "run_button = widgets.Button(description = 'Run')\n",
    "run_button.on_click(on_run_btn_clicked)\n",
    "display(run_button)\n",
    "display(output)\n"
   ]
  }
 ],
 "metadata": {
  "kernelspec": {
   "display_name": "Python 3",
   "language": "python",
   "name": "python3"
  },
  "language_info": {
   "codemirror_mode": {
    "name": "ipython",
    "version": 3
   },
   "file_extension": ".py",
   "mimetype": "text/x-python",
   "name": "python",
   "nbconvert_exporter": "python",
   "pygments_lexer": "ipython3",
   "version": "3.7.6"
  }
 },
 "nbformat": 4,
 "nbformat_minor": 4
}
