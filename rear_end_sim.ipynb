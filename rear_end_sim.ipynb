{
 "cells": [
  {
   "cell_type": "code",
   "execution_count": 33,
   "metadata": {},
   "outputs": [
    {
     "data": {
      "application/vnd.jupyter.widget-view+json": {
       "model_id": "17d1305b7480457987313be77662155f",
       "version_major": 2,
       "version_minor": 0
      },
      "text/plain": [
       "HTML(value='<b>Scenario</b>')"
      ]
     },
     "metadata": {},
     "output_type": "display_data"
    },
    {
     "data": {
      "application/vnd.jupyter.widget-view+json": {
       "model_id": "b446c881dd7e40b998f9a4d226dcdcbd",
       "version_major": 2,
       "version_minor": 0
      },
      "text/plain": [
       "HBox(children=(Label(value='Initial speed of ego vehicle (m/s)'), BoundedFloatText(value=10.0, max=50.0)))"
      ]
     },
     "metadata": {},
     "output_type": "display_data"
    },
    {
     "data": {
      "application/vnd.jupyter.widget-view+json": {
       "model_id": "3d6a38b6640445149f6c744320c0e6c5",
       "version_major": 2,
       "version_minor": 0
      },
      "text/plain": [
       "HBox(children=(Label(value='End time of ego driver off-road glance (s)'), BoundedFloatText(value=0.0, max=30.0…"
      ]
     },
     "metadata": {},
     "output_type": "display_data"
    },
    {
     "data": {
      "application/vnd.jupyter.widget-view+json": {
       "model_id": "72fe6e3fa46f48f8b92b9154cc29ad68",
       "version_major": 2,
       "version_minor": 0
      },
      "text/plain": [
       "HBox(children=(Label(value='Initial time gap between ego vehicle and collision partner (s)'), BoundedFloatText…"
      ]
     },
     "metadata": {},
     "output_type": "display_data"
    },
    {
     "data": {
      "application/vnd.jupyter.widget-view+json": {
       "model_id": "6a5c2531ef414c98ba9b473b3e53223e",
       "version_major": 2,
       "version_minor": 0
      },
      "text/plain": [
       "HBox(children=(Label(value='Width of collision partner (m)'), BoundedFloatText(value=1.9, max=10.0, min=0.1)))"
      ]
     },
     "metadata": {},
     "output_type": "display_data"
    },
    {
     "data": {
      "application/vnd.jupyter.widget-view+json": {
       "model_id": "492deb2542e947609e5cdda95c58e963",
       "version_major": 2,
       "version_minor": 0
      },
      "text/plain": [
       "HBox(children=(Label(value='Initial speed of collision partner (m/s)'), BoundedFloatText(value=10.0, max=50.0)…"
      ]
     },
     "metadata": {},
     "output_type": "display_data"
    },
    {
     "data": {
      "application/vnd.jupyter.widget-view+json": {
       "model_id": "4d1ba9013d3447659edede7c69483f8e",
       "version_major": 2,
       "version_minor": 0
      },
      "text/plain": [
       "HBox(children=(Label(value='Onset time of collision partner acceleration (s)'), BoundedFloatText(value=0.0, ma…"
      ]
     },
     "metadata": {},
     "output_type": "display_data"
    },
    {
     "data": {
      "application/vnd.jupyter.widget-view+json": {
       "model_id": "8bf203a9fe7c460ba660d883d3099427",
       "version_major": 2,
       "version_minor": 0
      },
      "text/plain": [
       "HBox(children=(Label(value='Acceleration magnitude of collision partner (m/s^2)'), BoundedFloatText(value=-0.3…"
      ]
     },
     "metadata": {},
     "output_type": "display_data"
    },
    {
     "data": {
      "application/vnd.jupyter.widget-view+json": {
       "model_id": "7661b21406b84dbb98f2436f6fc34f6a",
       "version_major": 2,
       "version_minor": 0
      },
      "text/plain": [
       "HTML(value='<b>Looming detection threshold model</b>')"
      ]
     },
     "metadata": {},
     "output_type": "display_data"
    },
    {
     "data": {
      "application/vnd.jupyter.widget-view+json": {
       "model_id": "3103700edcdf407e8acb6390c7b3e072",
       "version_major": 2,
       "version_minor": 0
      },
      "text/plain": [
       "Checkbox(value=False, description='Active', style=DescriptionStyle(description_width='0'))"
      ]
     },
     "metadata": {},
     "output_type": "display_data"
    },
    {
     "data": {
      "application/vnd.jupyter.widget-view+json": {
       "model_id": "78bcc101b0fa43b6b54ee8b542f3a677",
       "version_major": 2,
       "version_minor": 0
      },
      "text/plain": [
       "ColorPicker(value='magenta', description='Plot color')"
      ]
     },
     "metadata": {},
     "output_type": "display_data"
    },
    {
     "data": {
      "application/vnd.jupyter.widget-view+json": {
       "model_id": "b719a329fc90497b8bed0766a09d7d92",
       "version_major": 2,
       "version_minor": 0
      },
      "text/plain": [
       "HBox(children=(Label(value='Looming detection threshold (rad/s)'), BoundedFloatText(value=0.002, max=0.05)))"
      ]
     },
     "metadata": {},
     "output_type": "display_data"
    },
    {
     "data": {
      "application/vnd.jupyter.widget-view+json": {
       "model_id": "41b3d8e4ef4548689fa3103c0ea31cb3",
       "version_major": 2,
       "version_minor": 0
      },
      "text/plain": [
       "HTML(value='<b>Simulation/plotting</b>')"
      ]
     },
     "metadata": {},
     "output_type": "display_data"
    },
    {
     "data": {
      "application/vnd.jupyter.widget-view+json": {
       "model_id": "ee8f1e400a6549b1aac46da2e6226dba",
       "version_major": 2,
       "version_minor": 0
      },
      "text/plain": [
       "HBox(children=(Label(value='Simulation/plotting end time (s)'), BoundedFloatText(value=15.0, max=30.0)))"
      ]
     },
     "metadata": {},
     "output_type": "display_data"
    },
    {
     "data": {
      "application/vnd.jupyter.widget-view+json": {
       "model_id": "df436fde2d7d49778d1135fdc5f5b5ed",
       "version_major": 2,
       "version_minor": 0
      },
      "text/plain": [
       "HBox(children=(Label(value='No. of simulations (probabilistic models only) (-)'), BoundedIntText(value=100, ma…"
      ]
     },
     "metadata": {},
     "output_type": "display_data"
    },
    {
     "data": {
      "application/vnd.jupyter.widget-view+json": {
       "model_id": "566a54458ba4468dab7c256c6d78ef3f",
       "version_major": 2,
       "version_minor": 0
      },
      "text/plain": [
       "Checkbox(value=True, description='Plot base scenario', style=DescriptionStyle(description_width='0'))"
      ]
     },
     "metadata": {},
     "output_type": "display_data"
    },
    {
     "data": {
      "application/vnd.jupyter.widget-view+json": {
       "model_id": "4cad911e303d4249a2e2cae841a05fa1",
       "version_major": 2,
       "version_minor": 0
      },
      "text/plain": [
       "Button(description='Run', style=ButtonStyle())"
      ]
     },
     "metadata": {},
     "output_type": "display_data"
    },
    {
     "data": {
      "application/vnd.jupyter.widget-view+json": {
       "model_id": "074fedfc660249a7822974791820e8bc",
       "version_major": 2,
       "version_minor": 0
      },
      "text/plain": [
       "Output()"
      ]
     },
     "metadata": {},
     "output_type": "display_data"
    }
   ],
   "source": [
    "import ipywidgets as widgets\n",
    "from IPython.display import display\n",
    "import collision_driver_models as cdm\n",
    "import importlib\n",
    "importlib.reload(cdm)\n",
    "\n",
    "class ParametersWidget:\n",
    "    def __init__(self, parameterizable, is_togglable = False, toggled_on = False):\n",
    "        self.parameterizable = parameterizable\n",
    "        self.is_togglable = is_togglable\n",
    "        # header\n",
    "        header_widget = widgets.HTML(value = '<b>' + parameterizable.name + '</b>')\n",
    "        display(header_widget)\n",
    "        # toggle\n",
    "        if is_togglable:\n",
    "            self.toggle = widgets.Checkbox(value = toggled_on, description = 'Active')\n",
    "            self.toggle.style.description_width = '0'\n",
    "            display(self.toggle)\n",
    "        # parameters\n",
    "        self.param_widgets = {}\n",
    "        for i, param_def in enumerate(parameterizable.param_defs):\n",
    "            param_val = parameterizable.param_vals[param_def.short_name]\n",
    "            if param_def.type is cdm.ParameterType.BOOLEAN:\n",
    "                param_widget = widgets.Checkbox(description = param_def.display_name, value = param_val)\n",
    "                param_widget.style.description_width = '0'\n",
    "                display(param_widget)\n",
    "            elif param_def.type is cdm.ParameterType.COLOR:\n",
    "                param_widget = widgets.ColorPicker(description = param_def.display_name, value = param_val)\n",
    "                display(param_widget)\n",
    "            else:\n",
    "                min_val = param_def.range[0]\n",
    "                max_val = param_def.range[1]\n",
    "                if param_def.type is cdm.ParameterType.FLOAT:\n",
    "                    param_widget = widgets.BoundedFloatText(min = min_val, max = max_val, value = param_val)\n",
    "                else:\n",
    "                    param_widget = widgets.BoundedIntText(min = min_val, max = max_val, value = param_val)\n",
    "                hbox = widgets.HBox([widgets.Label(param_def.display_name + ' (' + param_def.unit + ')'), \n",
    "                                     param_widget])\n",
    "                display(hbox)\n",
    "            self.param_widgets[param_def.short_name] = param_widget\n",
    "            \n",
    "            \n",
    "\n",
    "scenario = cdm.Scenario()\n",
    "scenario.param_vals['v_E'] = 10\n",
    "scenario.param_vals['T_g'] = 4\n",
    "scenario.param_vals['T_o'] = 0\n",
    "scenario.param_vals['W_P'] = 1.9\n",
    "scenario.param_vals['v_P'] = 10\n",
    "scenario.param_vals['T_a'] = 0\n",
    "scenario.param_vals['a_P'] = -0.35\n",
    "\n",
    "driver_models = []\n",
    "fixed_ldt_model = cdm.FixedLDTModel()\n",
    "fixed_ldt_model.param_vals['thetaDot_d'] = 0.002\n",
    "driver_models.append(fixed_ldt_model)\n",
    "mk2012_model = cdm.MaddoxAndKiefer2012Model()\n",
    "\n",
    "sim_engine = cdm.SimulationEngine(scenario)\n",
    "sim_engine.param_vals['end_time'] = 15\n",
    "sim_engine.param_vals['n_simulations'] = 100\n",
    "sim_engine.add_driver_model(fixed_ldt_model)\n",
    "\n",
    "\n",
    "params_widgets = []\n",
    "driver_model_widgets = []\n",
    "params_widgets.append(ParametersWidget(scenario, False))\n",
    "for driver_model in driver_models:\n",
    "    driver_model_widget = ParametersWidget(driver_model, True)\n",
    "    params_widgets.append(driver_model_widget)\n",
    "    driver_model_widgets.append(driver_model_widget)\n",
    "params_widgets.append(ParametersWidget(sim_engine, False))\n",
    "\n",
    "output = widgets.Output()\n",
    "\n",
    "def on_run_btn_clicked(b):\n",
    "    # set parameter values\n",
    "    for params_widget in params_widgets:\n",
    "        for param_def in params_widget.parameterizable.param_defs:\n",
    "            params_widget.parameterizable.param_vals[param_def.short_name] = (\n",
    "                params_widget.param_widgets[param_def.short_name].value)\n",
    "    # specify driver models to include\n",
    "    sim_engine.clear_driver_models()\n",
    "    for driver_model_widget in driver_model_widgets:\n",
    "        if driver_model_widget.toggle.value:\n",
    "            sim_engine.add_driver_model(driver_model_widget.parameterizable)\n",
    "    # run simulations\n",
    "    sim_engine.simulate_driver_models()\n",
    "    # plot\n",
    "    output.clear_output()\n",
    "    with output:\n",
    "        sim_engine.plot()\n",
    "\n",
    "run_button = widgets.Button(description = 'Run')\n",
    "run_button.on_click(on_run_btn_clicked)\n",
    "display(run_button)\n",
    "display(output)\n"
   ]
  }
 ],
 "metadata": {
  "kernelspec": {
   "display_name": "Python 3",
   "language": "python",
   "name": "python3"
  },
  "language_info": {
   "codemirror_mode": {
    "name": "ipython",
    "version": 3
   },
   "file_extension": ".py",
   "mimetype": "text/x-python",
   "name": "python",
   "nbconvert_exporter": "python",
   "pygments_lexer": "ipython3",
   "version": "3.7.6"
  }
 },
 "nbformat": 4,
 "nbformat_minor": 4
}
