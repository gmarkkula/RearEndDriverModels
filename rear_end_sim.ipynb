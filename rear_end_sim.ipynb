{
 "cells": [
  {
   "cell_type": "markdown",
   "metadata": {},
   "source": [
    "Just adding a bit of $\\LaTeX$ - seems needed to make it render below..."
   ]
  },
  {
   "cell_type": "code",
   "execution_count": 23,
   "metadata": {},
   "outputs": [
    {
     "data": {
      "application/vnd.jupyter.widget-view+json": {
       "model_id": "4e92f0de302244a9a7a25dacfb197e3f",
       "version_major": 2,
       "version_minor": 0
      },
      "text/plain": [
       "HTML(value='<b>Scenario</b>')"
      ]
     },
     "metadata": {},
     "output_type": "display_data"
    },
    {
     "data": {
      "application/vnd.jupyter.widget-view+json": {
       "model_id": "60483c98541848969dd0583f71346599",
       "version_major": 2,
       "version_minor": 0
      },
      "text/plain": [
       "HBox(children=(Label(value='Initial speed of ego vehicle (m/s)'), BoundedFloatText(value=22.22222222222222, ma…"
      ]
     },
     "metadata": {},
     "output_type": "display_data"
    },
    {
     "data": {
      "application/vnd.jupyter.widget-view+json": {
       "model_id": "890c07a8d4224a348693a4422165dd77",
       "version_major": 2,
       "version_minor": 0
      },
      "text/plain": [
       "HBox(children=(Label(value='End time of ego driver off-road glance (s)'), BoundedFloatText(value=0.0, max=30.0…"
      ]
     },
     "metadata": {},
     "output_type": "display_data"
    },
    {
     "data": {
      "application/vnd.jupyter.widget-view+json": {
       "model_id": "3fe0e4af54c8492595a03084f3144411",
       "version_major": 2,
       "version_minor": 0
      },
      "text/plain": [
       "HBox(children=(Label(value='Initial time gap between ego vehicle and collision partner (s)'), BoundedFloatText…"
      ]
     },
     "metadata": {},
     "output_type": "display_data"
    },
    {
     "data": {
      "application/vnd.jupyter.widget-view+json": {
       "model_id": "3e42c6eae4bf4988aefc8df21b1b8c78",
       "version_major": 2,
       "version_minor": 0
      },
      "text/plain": [
       "HBox(children=(Label(value='Width of collision partner (m)'), BoundedFloatText(value=1.8, max=10.0, min=0.1)))"
      ]
     },
     "metadata": {},
     "output_type": "display_data"
    },
    {
     "data": {
      "application/vnd.jupyter.widget-view+json": {
       "model_id": "2d269315dd3545559c54883886e96b4b",
       "version_major": 2,
       "version_minor": 0
      },
      "text/plain": [
       "HBox(children=(Label(value='Initial speed of collision partner (m/s)'), BoundedFloatText(value=0.0, max=50.0))…"
      ]
     },
     "metadata": {},
     "output_type": "display_data"
    },
    {
     "data": {
      "application/vnd.jupyter.widget-view+json": {
       "model_id": "bacc57cf9b8343ff80dd9abf125bd639",
       "version_major": 2,
       "version_minor": 0
      },
      "text/plain": [
       "HBox(children=(Label(value='Onset time of collision partner acceleration (s)'), BoundedFloatText(value=0.0, ma…"
      ]
     },
     "metadata": {},
     "output_type": "display_data"
    },
    {
     "data": {
      "application/vnd.jupyter.widget-view+json": {
       "model_id": "5224e9b1f8994be3bdec478dc63aa02e",
       "version_major": 2,
       "version_minor": 0
      },
      "text/plain": [
       "HBox(children=(Label(value='Acceleration magnitude of collision partner (m/s²)'), BoundedFloatText(value=0.0, …"
      ]
     },
     "metadata": {},
     "output_type": "display_data"
    },
    {
     "data": {
      "application/vnd.jupyter.widget-view+json": {
       "model_id": "bacd625dbe794d31a639056dd4099400",
       "version_major": 2,
       "version_minor": 0
      },
      "text/plain": [
       "Dropdown(options=('<You can choose a parameter preset here>', 'Eyes-on-threat example (stationary lead vehicle…"
      ]
     },
     "metadata": {},
     "output_type": "display_data"
    },
    {
     "data": {
      "application/vnd.jupyter.widget-view+json": {
       "model_id": "a480254826fc4f8a946e8245d1435a14",
       "version_major": 2,
       "version_minor": 0
      },
      "text/plain": [
       "HTML(value='<b>Looming detection threshold model</b>')"
      ]
     },
     "metadata": {},
     "output_type": "display_data"
    },
    {
     "data": {
      "application/vnd.jupyter.widget-view+json": {
       "model_id": "f373a52c712740938052168a3207565e",
       "version_major": 2,
       "version_minor": 0
      },
      "text/plain": [
       "Checkbox(value=True, description='Enabled', style=DescriptionStyle(description_width='0'))"
      ]
     },
     "metadata": {},
     "output_type": "display_data"
    },
    {
     "data": {
      "application/vnd.jupyter.widget-view+json": {
       "model_id": "1a7f006224034d4da4eeee298858db8a",
       "version_major": 2,
       "version_minor": 0
      },
      "text/plain": [
       "ColorPicker(value='magenta', description='Plot color')"
      ]
     },
     "metadata": {},
     "output_type": "display_data"
    },
    {
     "data": {
      "application/vnd.jupyter.widget-view+json": {
       "model_id": "a5afaa34230544fb9feffa9e94247613",
       "version_major": 2,
       "version_minor": 0
      },
      "text/plain": [
       "HBox(children=(Label(value='Looming detection threshold (rad/s)'), BoundedFloatText(value=0.003, max=0.05)))"
      ]
     },
     "metadata": {},
     "output_type": "display_data"
    },
    {
     "data": {
      "application/vnd.jupyter.widget-view+json": {
       "model_id": "bb16ff99973149f2a3b2fd7c80cb6f42",
       "version_major": 2,
       "version_minor": 0
      },
      "text/plain": [
       "Dropdown(options=('<You can choose a parameter preset here>', 'Hoffman and Mortimer (1994)', 'Markkula et al. …"
      ]
     },
     "metadata": {},
     "output_type": "display_data"
    },
    {
     "data": {
      "application/vnd.jupyter.widget-view+json": {
       "model_id": "d7c76e49ca9f4a63a96006b7c06f8b3e",
       "version_major": 2,
       "version_minor": 0
      },
      "text/plain": [
       "HTML(value='<b>Maddox and Kiefer (2012)</b>')"
      ]
     },
     "metadata": {},
     "output_type": "display_data"
    },
    {
     "data": {
      "application/vnd.jupyter.widget-view+json": {
       "model_id": "8dba4787c8164c048b3e73ff1397347a",
       "version_major": 2,
       "version_minor": 0
      },
      "text/plain": [
       "Checkbox(value=True, description='Enabled', style=DescriptionStyle(description_width='0'))"
      ]
     },
     "metadata": {},
     "output_type": "display_data"
    },
    {
     "data": {
      "application/vnd.jupyter.widget-view+json": {
       "model_id": "0c75d37e600f486c800f8948f032446a",
       "version_major": 2,
       "version_minor": 0
      },
      "text/plain": [
       "ColorPicker(value='red', description='Plot color')"
      ]
     },
     "metadata": {},
     "output_type": "display_data"
    },
    {
     "data": {
      "application/vnd.jupyter.widget-view+json": {
       "model_id": "c61dc83423664d1c80758851b0fbf200",
       "version_major": 2,
       "version_minor": 0
      },
      "text/plain": [
       "HBox(children=(Label(value='Looming detection threshold (rad/s)'), BoundedFloatText(value=0.0174, max=0.05)))"
      ]
     },
     "metadata": {},
     "output_type": "display_data"
    },
    {
     "data": {
      "application/vnd.jupyter.widget-view+json": {
       "model_id": "dbbe5c6286714568b74b14c8ed1a5433",
       "version_major": 2,
       "version_minor": 0
      },
      "text/plain": [
       "HBox(children=(Label(value='Perception-reaction time (s)'), BoundedFloatText(value=1.5, max=3.0)))"
      ]
     },
     "metadata": {},
     "output_type": "display_data"
    },
    {
     "data": {
      "application/vnd.jupyter.widget-view+json": {
       "model_id": "7f2d824f64de4098b9bd9ebe9531b7a1",
       "version_major": 2,
       "version_minor": 0
      },
      "text/plain": [
       "Dropdown(options=('<You can choose a parameter preset here>', 'Low PRT', 'Mid PRT', 'High PRT'), value='<You c…"
      ]
     },
     "metadata": {},
     "output_type": "display_data"
    },
    {
     "data": {
      "application/vnd.jupyter.widget-view+json": {
       "model_id": "ac325fac69434d1c9f05526965dd031c",
       "version_major": 2,
       "version_minor": 0
      },
      "text/plain": [
       "HTML(value='<b>Markkula et al. (2016)</b>')"
      ]
     },
     "metadata": {},
     "output_type": "display_data"
    },
    {
     "data": {
      "application/vnd.jupyter.widget-view+json": {
       "model_id": "d2261cd580494b8e88e5542f280ce757",
       "version_major": 2,
       "version_minor": 0
      },
      "text/plain": [
       "Checkbox(value=True, description='Enabled', style=DescriptionStyle(description_width='0'))"
      ]
     },
     "metadata": {},
     "output_type": "display_data"
    },
    {
     "data": {
      "application/vnd.jupyter.widget-view+json": {
       "model_id": "48f9cfd09bb942cdb9ed0d66992af5a9",
       "version_major": 2,
       "version_minor": 0
      },
      "text/plain": [
       "ColorPicker(value='orange', description='Plot color')"
      ]
     },
     "metadata": {},
     "output_type": "display_data"
    },
    {
     "data": {
      "application/vnd.jupyter.widget-view+json": {
       "model_id": "4333c2de027b45eca470fe01ba636ccc",
       "version_major": 2,
       "version_minor": 0
      },
      "text/plain": [
       "HBox(children=(Label(value='$\\\\alpha_B$ eyes on threat: $\\\\mu$ (-)'), BoundedFloatText(value=0.22, max=10.0, m…"
      ]
     },
     "metadata": {},
     "output_type": "display_data"
    },
    {
     "data": {
      "application/vnd.jupyter.widget-view+json": {
       "model_id": "0d38c45520b749af93a3b048649502e6",
       "version_major": 2,
       "version_minor": 0
      },
      "text/plain": [
       "HBox(children=(Label(value='$\\\\alpha_B$ eyes on threat: $\\\\sigma$ (-)'), BoundedFloatText(value=0.29, max=10.0…"
      ]
     },
     "metadata": {},
     "output_type": "display_data"
    },
    {
     "data": {
      "application/vnd.jupyter.widget-view+json": {
       "model_id": "74ccc3d2e22341e9a1a4303dcccc7c77",
       "version_major": 2,
       "version_minor": 0
      },
      "text/plain": [
       "HBox(children=(Label(value='$\\\\alpha_B$ eyes off threat: $\\\\mu$ (-)'), BoundedFloatText(value=-1.4, max=10.0, …"
      ]
     },
     "metadata": {},
     "output_type": "display_data"
    },
    {
     "data": {
      "application/vnd.jupyter.widget-view+json": {
       "model_id": "27d791818b084a05be556793871de370",
       "version_major": 2,
       "version_minor": 0
      },
      "text/plain": [
       "HBox(children=(Label(value='$\\\\alpha_B$ eyes off threat: $\\\\sigma$ (-)'), BoundedFloatText(value=0.71, max=10.…"
      ]
     },
     "metadata": {},
     "output_type": "display_data"
    },
    {
     "data": {
      "application/vnd.jupyter.widget-view+json": {
       "model_id": "e8e863e3335d4040a5ddb87d7be4fc37",
       "version_major": 2,
       "version_minor": 0
      },
      "text/plain": [
       "HBox(children=(Label(value='$k_B$: $\\\\mu$ (g)'), BoundedFloatText(value=1.23, max=10.0, min=-10.0)))"
      ]
     },
     "metadata": {},
     "output_type": "display_data"
    },
    {
     "data": {
      "application/vnd.jupyter.widget-view+json": {
       "model_id": "92e0ca93b97d45c8bc1225c3cae3f8c5",
       "version_major": 2,
       "version_minor": 0
      },
      "text/plain": [
       "HBox(children=(Label(value='$k_B$: $\\\\sigma$ (g)'), BoundedFloatText(value=0.62, max=10.0, min=-10.0)))"
      ]
     },
     "metadata": {},
     "output_type": "display_data"
    },
    {
     "data": {
      "application/vnd.jupyter.widget-view+json": {
       "model_id": "69e863c05c4845ffb00c925651752fff",
       "version_major": 2,
       "version_minor": 0
      },
      "text/plain": [
       "HBox(children=(Label(value='$a_1$: $\\\\mu$ (m/s²)'), BoundedFloatText(value=-6.68, max=10.0, min=-10.0)))"
      ]
     },
     "metadata": {},
     "output_type": "display_data"
    },
    {
     "data": {
      "application/vnd.jupyter.widget-view+json": {
       "model_id": "cecb0c9cade24909a5d9103f4c766167",
       "version_major": 2,
       "version_minor": 0
      },
      "text/plain": [
       "HBox(children=(Label(value='$a_1$: $\\\\sigma$ (m/s²)'), BoundedFloatText(value=1.69, max=10.0, min=-10.0)))"
      ]
     },
     "metadata": {},
     "output_type": "display_data"
    },
    {
     "data": {
      "application/vnd.jupyter.widget-view+json": {
       "model_id": "472afb62724e40d4975e058e217430c7",
       "version_major": 2,
       "version_minor": 0
      },
      "text/plain": [
       "Dropdown(options=('<You can choose a parameter preset here>', 'SHRP 2 car near-crashes/crashes', 'SHRP 2 truck…"
      ]
     },
     "metadata": {},
     "output_type": "display_data"
    },
    {
     "data": {
      "application/vnd.jupyter.widget-view+json": {
       "model_id": "c58b1a78ac63461ca46fa236bb6d3098",
       "version_major": 2,
       "version_minor": 0
      },
      "text/plain": [
       "HTML(value='<b>Simulation/plotting</b>')"
      ]
     },
     "metadata": {},
     "output_type": "display_data"
    },
    {
     "data": {
      "application/vnd.jupyter.widget-view+json": {
       "model_id": "2714dede34f9402e9734947e55f0ee21",
       "version_major": 2,
       "version_minor": 0
      },
      "text/plain": [
       "HBox(children=(Label(value='Simulation/plotting end time (s)'), BoundedFloatText(value=20.0, max=30.0)))"
      ]
     },
     "metadata": {},
     "output_type": "display_data"
    },
    {
     "data": {
      "application/vnd.jupyter.widget-view+json": {
       "model_id": "ecad8a24cdd44fd8bc8a797a6aee3c9f",
       "version_major": 2,
       "version_minor": 0
      },
      "text/plain": [
       "HBox(children=(Label(value='No. of simulations (probabilistic models only) (-)'), BoundedIntText(value=100, ma…"
      ]
     },
     "metadata": {},
     "output_type": "display_data"
    },
    {
     "data": {
      "application/vnd.jupyter.widget-view+json": {
       "model_id": "b559118351b546308fe7a82d6ea4b902",
       "version_major": 2,
       "version_minor": 0
      },
      "text/plain": [
       "Checkbox(value=True, description='Plot base scenario', style=DescriptionStyle(description_width='0'))"
      ]
     },
     "metadata": {},
     "output_type": "display_data"
    },
    {
     "data": {
      "application/vnd.jupyter.widget-view+json": {
       "model_id": "072f234fffbe45cb9190034c7130fd58",
       "version_major": 2,
       "version_minor": 0
      },
      "text/plain": [
       "Button(description='Run', style=ButtonStyle())"
      ]
     },
     "metadata": {},
     "output_type": "display_data"
    },
    {
     "data": {
      "application/vnd.jupyter.widget-view+json": {
       "model_id": "fd33db02b3114673b4a06def3844b5d5",
       "version_major": 2,
       "version_minor": 0
      },
      "text/plain": [
       "Output()"
      ]
     },
     "metadata": {},
     "output_type": "display_data"
    }
   ],
   "source": [
    "import ipywidgets as widgets\n",
    "from IPython.display import display\n",
    "import collision_driver_models as cdm\n",
    "import importlib\n",
    "importlib.reload(cdm)\n",
    "\n",
    "NO_PRESET_STRING = '<You can choose a parameter preset here>'\n",
    "\n",
    "class ParametersWidget:\n",
    "    def __init__(self, parameterizable, is_togglable = False, toggled_on = True):\n",
    "        self.parameterizable = parameterizable\n",
    "        self.is_togglable = is_togglable\n",
    "        # header\n",
    "        header_widget = widgets.HTML(value = '<b>' + parameterizable.name + '</b>')\n",
    "        display(header_widget)\n",
    "        # toggle\n",
    "        if is_togglable:\n",
    "            self.toggle = widgets.Checkbox(value = toggled_on, description = 'Enabled')\n",
    "            self.toggle.style.description_width = '0'\n",
    "            display(self.toggle)\n",
    "        # parameters\n",
    "        self.param_widgets = {}\n",
    "        for i, param_def in enumerate(parameterizable.param_defs):\n",
    "            param_val = parameterizable.param_vals[param_def.short_name]\n",
    "            if param_def.type is cdm.ParameterType.BOOLEAN:\n",
    "                param_widget = widgets.Checkbox(description = param_def.display_name, value = param_val)\n",
    "                param_widget.style.description_width = '0'\n",
    "                display(param_widget)\n",
    "            elif param_def.type is cdm.ParameterType.COLOR:\n",
    "                param_widget = widgets.ColorPicker(description = param_def.display_name, value = param_val)\n",
    "                display(param_widget)\n",
    "            else:\n",
    "                min_val = param_def.range[0]\n",
    "                max_val = param_def.range[1]\n",
    "                if param_def.type is cdm.ParameterType.FLOAT:\n",
    "                    param_widget = widgets.BoundedFloatText(min = min_val, max = max_val, value = param_val)\n",
    "                else:\n",
    "                    param_widget = widgets.BoundedIntText(min = min_val, max = max_val, value = param_val)\n",
    "                hbox = widgets.HBox([widgets.Label(param_def.display_name + ' (' + param_def.unit + ')'), \n",
    "                                     param_widget])\n",
    "                display(hbox)\n",
    "            self.param_widgets[param_def.short_name] = param_widget\n",
    "        # presets\n",
    "        if len(parameterizable.presets) > 0:\n",
    "            drop_options = []\n",
    "            drop_options.append(NO_PRESET_STRING)\n",
    "            for preset in parameterizable.presets:\n",
    "                drop_options.append(preset.display_name)\n",
    "            self.preset_widget = widgets.Dropdown(options = drop_options)\n",
    "            display(self.preset_widget)\n",
    "            self.preset_widget.observe(self.on_preset_selected)\n",
    "    \n",
    "    def set_parameterizable_from_widget(self):\n",
    "        for param_def in self.parameterizable.param_defs:\n",
    "            self.parameterizable.param_vals[param_def.short_name] = (\n",
    "                self.param_widgets[param_def.short_name].value)\n",
    "            \n",
    "    def set_widget_from_parameterizable(self):\n",
    "        for param_def in self.parameterizable.param_defs:\n",
    "            self.param_widgets[param_def.short_name].value = (\n",
    "                self.parameterizable.param_vals[param_def.short_name])\n",
    "    \n",
    "    def on_preset_selected(self, change):\n",
    "        if not (self.preset_widget.value == NO_PRESET_STRING):\n",
    "            # make sure parameterizable is up to date with widget \n",
    "            # (since not all parameter are necessarily set by a preset)\n",
    "            self.set_parameterizable_from_widget()\n",
    "            # apply the preset\n",
    "            self.parameterizable.choose_preset(self.preset_widget.value)\n",
    "            # pull back parameter values to widget\n",
    "            self.set_widget_from_parameterizable()\n",
    "            # set the preset widgetback to the no-choice option\n",
    "            self.preset_widget.value = NO_PRESET_STRING\n",
    "            \n",
    "            \n",
    "\n",
    "scenario = cdm.Scenario()\n",
    "sim_engine = cdm.SimulationEngine(scenario)\n",
    "sim_engine.param_vals['end_time'] = 20\n",
    "sim_engine.param_vals['n_simulations'] = 100\n",
    "sim_engine.add_driver_model(cdm.FixedLDTModel())\n",
    "sim_engine.add_driver_model(cdm.MaddoxAndKiefer2012Model())\n",
    "sim_engine.add_driver_model(cdm.MarkkulaEtAl2016Model())\n",
    "\n",
    "\n",
    "params_widgets = []\n",
    "driver_model_widgets = []\n",
    "params_widgets.append(ParametersWidget(scenario, is_togglable = False))\n",
    "for driver_model in sim_engine.driver_models:\n",
    "    driver_model_widget = ParametersWidget(driver_model, is_togglable = True)\n",
    "    params_widgets.append(driver_model_widget)\n",
    "    driver_model_widgets.append(driver_model_widget)\n",
    "params_widgets.append(ParametersWidget(sim_engine, is_togglable = False))\n",
    "\n",
    "output = widgets.Output()\n",
    "\n",
    "def on_run_btn_clicked(b):\n",
    "    # set parameter values\n",
    "    for params_widget in params_widgets:\n",
    "        params_widget.set_parameterizable_from_widget()\n",
    "    # specify driver models to include\n",
    "    sim_engine.clear_driver_models()\n",
    "    for driver_model_widget in driver_model_widgets:\n",
    "        if driver_model_widget.toggle.value:\n",
    "            sim_engine.add_driver_model(driver_model_widget.parameterizable)\n",
    "    # run simulations \n",
    "    run_button.description = 'Running/plotting...'\n",
    "    run_button.disabled = True\n",
    "    output.clear_output()\n",
    "    with output:\n",
    "        try:\n",
    "            # run simulations\n",
    "            sim_engine.simulate_driver_models()\n",
    "            # plot\n",
    "            sim_engine.plot()\n",
    "        except Exception as err:\n",
    "            print('Failed with error message: ' + format(err))\n",
    "    run_button.description = 'Run'\n",
    "    run_button.disabled = False\n",
    "        \n",
    "\n",
    "run_button = widgets.Button(description = 'Run')\n",
    "run_button.on_click(on_run_btn_clicked)\n",
    "display(run_button)\n",
    "display(output)\n"
   ]
  },
  {
   "cell_type": "code",
   "execution_count": null,
   "metadata": {},
   "outputs": [],
   "source": []
  }
 ],
 "metadata": {
  "kernelspec": {
   "display_name": "Python 3",
   "language": "python",
   "name": "python3"
  },
  "language_info": {
   "codemirror_mode": {
    "name": "ipython",
    "version": 3
   },
   "file_extension": ".py",
   "mimetype": "text/x-python",
   "name": "python",
   "nbconvert_exporter": "python",
   "pygments_lexer": "ipython3",
   "version": "3.7.6"
  }
 },
 "nbformat": 4,
 "nbformat_minor": 4
}
