{
 "cells": [
  {
   "cell_type": "markdown",
   "metadata": {},
   "source": [
    "Just adding a bit of $\\LaTeX$ - seems needed to make it render below..."
   ]
  },
  {
   "cell_type": "code",
   "execution_count": 73,
   "metadata": {},
   "outputs": [
    {
     "data": {
      "application/vnd.jupyter.widget-view+json": {
       "model_id": "f21ba62f17414b5aa13a5dfe13012233",
       "version_major": 2,
       "version_minor": 0
      },
      "text/plain": [
       "Accordion(children=(VBox(children=(HBox(children=(Label(value='Initial speed of ego vehicle (m/s)'), BoundedFl…"
      ]
     },
     "metadata": {},
     "output_type": "display_data"
    },
    {
     "data": {
      "application/vnd.jupyter.widget-view+json": {
       "model_id": "88b42c6a4ee34955a9da680cfc990244",
       "version_major": 2,
       "version_minor": 0
      },
      "text/plain": [
       "HBox(children=(Checkbox(value=True, layout=Layout(width='4%'), style=DescriptionStyle(description_width='0')),…"
      ]
     },
     "metadata": {},
     "output_type": "display_data"
    },
    {
     "data": {
      "application/vnd.jupyter.widget-view+json": {
       "model_id": "3a6a8c5b97b94f3d83eb287816f66ea0",
       "version_major": 2,
       "version_minor": 0
      },
      "text/plain": [
       "HBox(children=(Checkbox(value=True, layout=Layout(width='4%'), style=DescriptionStyle(description_width='0')),…"
      ]
     },
     "metadata": {},
     "output_type": "display_data"
    },
    {
     "data": {
      "application/vnd.jupyter.widget-view+json": {
       "model_id": "bff5e96d9617494a8bb147735a281f4f",
       "version_major": 2,
       "version_minor": 0
      },
      "text/plain": [
       "HBox(children=(Checkbox(value=True, layout=Layout(width='4%'), style=DescriptionStyle(description_width='0')),…"
      ]
     },
     "metadata": {},
     "output_type": "display_data"
    },
    {
     "data": {
      "application/vnd.jupyter.widget-view+json": {
       "model_id": "ba2775084f8d440eabb3038cf45973a3",
       "version_major": 2,
       "version_minor": 0
      },
      "text/plain": [
       "Accordion(children=(VBox(children=(HBox(children=(Label(value='Simulation/plotting end time (s)'), BoundedFloa…"
      ]
     },
     "metadata": {},
     "output_type": "display_data"
    },
    {
     "data": {
      "application/vnd.jupyter.widget-view+json": {
       "model_id": "be19716f14324af09682d9784a81995e",
       "version_major": 2,
       "version_minor": 0
      },
      "text/plain": [
       "Button(description='Run', style=ButtonStyle())"
      ]
     },
     "metadata": {},
     "output_type": "display_data"
    },
    {
     "data": {
      "application/vnd.jupyter.widget-view+json": {
       "model_id": "3f59122ad5fd4f789dd3d9b617f9313f",
       "version_major": 2,
       "version_minor": 0
      },
      "text/plain": [
       "Output()"
      ]
     },
     "metadata": {},
     "output_type": "display_data"
    }
   ],
   "source": [
    "import ipywidgets as widgets\n",
    "from IPython.display import display\n",
    "import collision_driver_models as cdm\n",
    "import importlib\n",
    "importlib.reload(cdm)\n",
    "\n",
    "NO_PRESET_STRING = '<You can choose a parameter preset here>'\n",
    "\n",
    "class ParametersWidget:\n",
    "    def __init__(self, parameterizable, is_togglable = False, toggled_on = True):\n",
    "        self.parameterizable = parameterizable\n",
    "        self.is_togglable = is_togglable\n",
    "        ## header\n",
    "        #header_widget = widgets.HTML(value = '<b>' + parameterizable.name + '</b>')\n",
    "        #display(header_widget)\n",
    "        # parameters\n",
    "        accordion_widgets = []\n",
    "        self.param_widgets = {}\n",
    "        for i, param_def in enumerate(parameterizable.param_defs):\n",
    "            param_val = parameterizable.param_vals[param_def.short_name]\n",
    "            if param_def.type is cdm.ParameterType.BOOLEAN:\n",
    "                param_widget = widgets.Checkbox(description = param_def.display_name, value = param_val)\n",
    "                param_widget.style.description_width = '0'\n",
    "                #display(param_widget)\n",
    "                accordion_widgets.append(param_widget)\n",
    "            elif param_def.type is cdm.ParameterType.COLOR:\n",
    "                param_widget = widgets.ColorPicker(description = param_def.display_name, value = param_val)\n",
    "                #display(param_widget)\n",
    "                accordion_widgets.append(param_widget)\n",
    "            else:\n",
    "                min_val = param_def.range[0]\n",
    "                max_val = param_def.range[1]\n",
    "                if param_def.type is cdm.ParameterType.FLOAT:\n",
    "                    param_widget = widgets.BoundedFloatText(min = min_val, max = max_val, value = param_val)\n",
    "                else:\n",
    "                    param_widget = widgets.BoundedIntText(min = min_val, max = max_val, value = param_val)\n",
    "                hbox = widgets.HBox([widgets.Label(param_def.display_name + ' (' + param_def.unit + ')'), \n",
    "                                     param_widget])\n",
    "                #display(hbox)\n",
    "                accordion_widgets.append(hbox)\n",
    "            self.param_widgets[param_def.short_name] = param_widget\n",
    "        # presets\n",
    "        if len(parameterizable.presets) > 0:\n",
    "            drop_options = []\n",
    "            drop_options.append(NO_PRESET_STRING)\n",
    "            for preset in parameterizable.presets:\n",
    "                drop_options.append(preset.display_name)\n",
    "            self.preset_widget = widgets.Dropdown(options = drop_options)\n",
    "            #display(self.preset_widget)\n",
    "            accordion_widgets.append(self.preset_widget)\n",
    "            self.preset_widget.observe(self.on_preset_selected)\n",
    "        # accordion\n",
    "        self.accordion_widget = widgets.Accordion(children = [widgets.VBox(accordion_widgets)])\n",
    "        self.accordion_widget.set_title(0, parameterizable.name)\n",
    "        # toggle?\n",
    "        if is_togglable:\n",
    "            self.toggle = widgets.Checkbox(value = toggled_on, description = '')\n",
    "            self.toggle.style.description_width = '0'\n",
    "            hbox = widgets.HBox([self.toggle, self.accordion_widget])\n",
    "            self.toggle.layout.width = '4%'\n",
    "            self.toggle.observe(self.on_toggle, names = 'value')\n",
    "            self.accordion_widget.layout.width = '96%'\n",
    "            self.accordion_widget.selected_index = None\n",
    "            display(hbox)\n",
    "        else:\n",
    "            display(self.accordion_widget)\n",
    "    \n",
    "    def set_parameterizable_from_widget(self):\n",
    "        for param_def in self.parameterizable.param_defs:\n",
    "            self.parameterizable.param_vals[param_def.short_name] = (\n",
    "                self.param_widgets[param_def.short_name].value)\n",
    "            \n",
    "    def set_widget_from_parameterizable(self):\n",
    "        for param_def in self.parameterizable.param_defs:\n",
    "            self.param_widgets[param_def.short_name].value = (\n",
    "                self.parameterizable.param_vals[param_def.short_name])\n",
    "    \n",
    "    def on_preset_selected(self, change):\n",
    "        if not (self.preset_widget.value == NO_PRESET_STRING):\n",
    "            # make sure parameterizable is up to date with widget \n",
    "            # (since not all parameter are necessarily set by a preset)\n",
    "            self.set_parameterizable_from_widget()\n",
    "            # apply the preset\n",
    "            self.parameterizable.choose_preset(self.preset_widget.value)\n",
    "            # pull back parameter values to widget\n",
    "            self.set_widget_from_parameterizable()\n",
    "            # set the preset widgetback to the no-choice option\n",
    "            self.preset_widget.value = NO_PRESET_STRING\n",
    "            \n",
    "    def on_toggle(self, change):\n",
    "        # collapse the parameter accordion if parameters widget not toggled on\n",
    "        if not self.toggle.value:\n",
    "            self.accordion_widget.selected_index = None\n",
    "            \n",
    "            \n",
    "\n",
    "scenario = cdm.Scenario()\n",
    "sim_engine = cdm.SimulationEngine(scenario)\n",
    "sim_engine.param_vals['end_time'] = 20\n",
    "sim_engine.param_vals['n_simulations'] = 100\n",
    "sim_engine.add_driver_model(cdm.FixedLDTModel())\n",
    "sim_engine.add_driver_model(cdm.MaddoxAndKiefer2012Model())\n",
    "sim_engine.add_driver_model(cdm.MarkkulaEtAl2016Model())\n",
    "\n",
    "\n",
    "params_widgets = []\n",
    "driver_model_widgets = []\n",
    "params_widgets.append(ParametersWidget(scenario, is_togglable = False))\n",
    "for driver_model in sim_engine.driver_models:\n",
    "    driver_model_widget = ParametersWidget(driver_model, is_togglable = True)\n",
    "    params_widgets.append(driver_model_widget)\n",
    "    driver_model_widgets.append(driver_model_widget)\n",
    "params_widgets.append(ParametersWidget(sim_engine, is_togglable = False))\n",
    "\n",
    "output = widgets.Output()\n",
    "\n",
    "def on_run_btn_clicked(b):\n",
    "    # set parameter values\n",
    "    for params_widget in params_widgets:\n",
    "        params_widget.set_parameterizable_from_widget()\n",
    "    # specify driver models to include\n",
    "    sim_engine.clear_driver_models()\n",
    "    for driver_model_widget in driver_model_widgets:\n",
    "        if driver_model_widget.toggle.value:\n",
    "            sim_engine.add_driver_model(driver_model_widget.parameterizable)\n",
    "    # run simulations \n",
    "    run_button.description = 'Running/plotting...'\n",
    "    run_button.disabled = True\n",
    "    output.clear_output()\n",
    "    with output:\n",
    "        try:\n",
    "            # run simulations\n",
    "            sim_engine.simulate_driver_models()\n",
    "            # plot\n",
    "            sim_engine.plot()\n",
    "        except Exception as err:\n",
    "            print('Failed with error message: ' + format(err))\n",
    "    run_button.description = 'Run'\n",
    "    run_button.disabled = False\n",
    "        \n",
    "\n",
    "run_button = widgets.Button(description = 'Run')\n",
    "run_button.on_click(on_run_btn_clicked)\n",
    "display(run_button)\n",
    "display(output)\n"
   ]
  },
  {
   "cell_type": "code",
   "execution_count": null,
   "metadata": {},
   "outputs": [],
   "source": []
  }
 ],
 "metadata": {
  "kernelspec": {
   "display_name": "Python 3",
   "language": "python",
   "name": "python3"
  },
  "language_info": {
   "codemirror_mode": {
    "name": "ipython",
    "version": 3
   },
   "file_extension": ".py",
   "mimetype": "text/x-python",
   "name": "python",
   "nbconvert_exporter": "python",
   "pygments_lexer": "ipython3",
   "version": "3.7.6"
  }
 },
 "nbformat": 4,
 "nbformat_minor": 4
}
